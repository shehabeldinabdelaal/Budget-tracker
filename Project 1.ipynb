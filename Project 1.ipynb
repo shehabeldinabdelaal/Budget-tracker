{
 "cells": [
  {
   "cell_type": "markdown",
   "id": "6b395dc1-92e6-45ad-ae47-f2ff4de5292c",
   "metadata": {},
   "source": [
    "# Budget Tracker Project\n",
    "\n",
    "## Quick Overview\n",
    "\n",
    "The Budget Tracker Project is built using Python to assist individuals in tracking and organizing their spending across various categories throughout a month. It primarily focuses on sorting expenses into distinct categories like groceries, subscriptions, donations, hangouts, clothes, and random expenses, emphasizing identification based on specific retailers.\n",
    "\n",
    "## Key Features\n",
    "\n",
    "- **Daily Expense Input**: Allows for the recording of daily spending by detailing the purchase date, item, and price.\n",
    "- **Categorizing**: Automatically assigns spending to categories according to the store or item description. Unclassifiable expenses prompt the user for correct categorization or to label them as miscellaneous.\n",
    "- **Budget Evaluation**: Offers the ability to define a timeframe for analyzing total spending by category.\n",
    "- **Error Handling**: Provides clear guidance for entries that don't match expected categories, improving usability.\n",
    "\n",
    "## Getting Started\n",
    "\n",
    "This application runs with Python's built-in capabilities, so no extra installations are needed.\n",
    "\n",
    "1. Get the code by cloning this repository or downloading the files.\n",
    "2. Open the folder where the project is located.\n",
    "\n",
    "## How To Use\n",
    "Start the application by executing the `Project 1.py` file in a command line or terminal window:\n",
    "- `-> python Project 1.py`\n",
    "\n",
    "### Add a Receipt\r",
    "\r\n",
    "To add a new receipt, copy and run the following functi:\n",
    "- `receipts.add_receipt()`\n",
    "\n",
    "This function will prompt you to enter the date, description, and price of your expense. Follow the on-screen instructions to input your data.\r\n",
    "\r\n",
    "### Evaluate Budget and Perio\r\n",
    "\r\n",
    "To evaluate your spending over a specific period, copy and run the follo ing func:\n",
    "- `receipts.budget_evaluation()`\n",
    "\n",
    "You will be prompted to enter the start and end dates for the budget period you wish to review. The application will then display your total spending by category within this period.\n",
    "\r",
    "### Starting over\n",
    "To start the program with a new list of receipts and ignore the old ones, restart the kernel.\n",
    "\n",
    "### Noteste\r\n",
    "\r\n",
    "Ensure you follow the prompts carefully and input your data as requested by the application. The date format should be YYYY-MM-DD for both adding a receipt and evaluating the bud  \n",
    "  \n",
    "Try using these keywords to match the right category  \n",
    "\n",
    "- 'Groceries': dollarama, walmart  \n",
    "- 'Subscriptions': eastlink, duolingo  \n",
    "-  'Donations': UNHCR, islamic relief  \n",
    "- 'Hangouts': shawarma, soccer  \n",
    "- 'Clothes': amazon, winners  \r\n",
    "\r\n",
    "\r\n",
    "\r\n",
    "on:\r\n",
    ":\r\n"
   ]
  },
  {
   "cell_type": "code",
   "execution_count": 1,
   "id": "9e941b6b-9168-45b3-a910-0a5e1c10f2ed",
   "metadata": {},
   "outputs": [],
   "source": [
    "from datetime import datetime\n",
    "\n",
    "class Receipts:\n",
    "    def __init__(self):\n",
    "        \"\"\"Initializes the class with an empty list to store all expenses.\"\"\"\n",
    "        self.expenses = []\n",
    "\n",
    "    def add_receipt(self):\n",
    "        \"\"\"\n",
    "        Interactively adds a receipt by asking the user for date, description, and price.\n",
    "        Validates the input and categorizes the expense, with error handling for incorrect inputs.\n",
    "        \"\"\"\n",
    "        # Ask the user for input\n",
    "        \n",
    "        date = input(\"Enter the date of the expense (YYYY-MM-DD): \")\n",
    "        try:\n",
    "            # Validate the date format\n",
    "            datecheck = datetime.strptime(date, \"%Y-%m-%d\").date()\n",
    "        except ValueError:\n",
    "            # Handle incorrect date format\n",
    "            print(\"Please make sure this is the right date in the right format (YYYY-MM-DD). Try again.\")\n",
    "            return\n",
    "        description = input(\"Describe the expense: \")\n",
    "        price_input = input(\"Enter the price of the expense: \")\n",
    "    \n",
    "        try:\n",
    "            # Validate and convert price to a float\n",
    "            price = float(price_input)\n",
    "            # Determine the category based on the description\n",
    "            category = self.categorize_expense(description)\n",
    "            if category == 'Random':\n",
    "                # Ask for user confirmation to add expense under 'Random' category\n",
    "                user_decision = input(f\"Expense '{description}' does not match any category. Add as 'Random'? (y/n): \")\n",
    "                if user_decision.lower() != 'y':\n",
    "                    print(\"Expense wasn't added. Please contact the developer to add your new category.\")\n",
    "                    return\n",
    "            # If all validations pass, add the expense to the list\n",
    "            self.expenses.append({'date': date, 'description': description, 'price': price, 'category': category})\n",
    "            print(\"Receipt added successfully.\")\n",
    "        except ValueError:\n",
    "            # Handle case where price is not a valid number\n",
    "            print(\"Error: Price must be a number. Receipt not added.\")\n",
    "\n",
    "    def categorize_expense(self, description):\n",
    "        \"\"\"Determines the category of an expense based on keywords in the description.\"\"\"\n",
    "        category_keywords = {\n",
    "            'Groceries': [ 'dollarama', 'walmart'],\n",
    "            'Subscriptions': ['eastlink', 'duolingo'],\n",
    "            'Donations': ['UNHCR', 'islamic relief'],\n",
    "            'Hangouts': ['shawarma', 'soccer'],\n",
    "            'Clothes': ['amazon', 'winners'],\n",
    "        }\n",
    "        for cat, keywords in category_keywords.items():\n",
    "            if any(keyword.lower() in description.lower() for keyword in keywords):\n",
    "                return cat\n",
    "        return 'Random'\n",
    "\n",
    "    def budget_evaluation(self):\n",
    "        \"\"\"Evaluates expenses within a specified period and shows spending by category.\"\"\"\n",
    "        while True:\n",
    "            try:\n",
    "                start_date = input(\"Enter the start date of the budget period (YYYY-MM-DD): \")\n",
    "                end_date = input(\"Enter the end date of the budget period (YYYY-MM-DD): \")\n",
    "                # Attempt to convert the input strings to datetime objects\n",
    "                start_date_dt = datetime.strptime(start_date, \"%Y-%m-%d\")\n",
    "                end_date_dt = datetime.strptime(end_date, \"%Y-%m-%d\")\n",
    "                break  # Break the loop if conversion is successful\n",
    "            except ValueError:  # Catch the exception if the date format is incorrect\n",
    "                print(\"Please make sure this is the right date in the right format (YYYY-MM-DD). Try again.\")\n",
    "    \n",
    "        # Initialize a summary to hold expenses by category for the specified period\n",
    "        category_totals = {}\n",
    "        for expense in self.expenses:\n",
    "            expense_date = datetime.strptime(expense['date'], \"%Y-%m-%d\")\n",
    "            if start_date_dt <= expense_date <= end_date_dt:\n",
    "                category = expense['category']\n",
    "                if category not in category_totals:\n",
    "                    category_totals[category] = 0\n",
    "                category_totals[category] += expense['price']\n",
    "    \n",
    "        # Display the expenses by category for the period\n",
    "        print(f\"Expenses from {start_date} to {end_date}:\")\n",
    "        for category, total in category_totals.items():\n",
    "            print(f\"{category}: {total}\")\n",
    "\n",
    "receipts = Receipts()"
   ]
  },
  {
   "cell_type": "code",
   "execution_count": 2,
   "id": "68e8986f-9a43-4e6a-87da-993bd7d93137",
   "metadata": {},
   "outputs": [
    {
     "name": "stdin",
     "output_type": "stream",
     "text": [
      "Enter the date of the expense (YYYY-MM-DD):  Feb 20 year 2024\n"
     ]
    },
    {
     "name": "stdout",
     "output_type": "stream",
     "text": [
      "Please make sure this is the right date in the right format (YYYY-MM-DD). Try again.\n"
     ]
    },
    {
     "name": "stdin",
     "output_type": "stream",
     "text": [
      "Enter the date of the expense (YYYY-MM-DD):  2024-02-20\n",
      "Describe the expense:  Bought some snacks from dollarama\n",
      "Enter the price of the expense:  10\n"
     ]
    },
    {
     "name": "stdout",
     "output_type": "stream",
     "text": [
      "Receipt added successfully.\n"
     ]
    },
    {
     "name": "stdin",
     "output_type": "stream",
     "text": [
      "Enter the date of the expense (YYYY-MM-DD):  2024-02-24\n",
      "Describe the expense:  Played some soccer with my friends in the BMO\n",
      "Enter the price of the expense:  20\n"
     ]
    },
    {
     "name": "stdout",
     "output_type": "stream",
     "text": [
      "Receipt added successfully.\n"
     ]
    },
    {
     "name": "stdin",
     "output_type": "stream",
     "text": [
      "Enter the date of the expense (YYYY-MM-DD):  2024-03-04\n",
      "Describe the expense:  paid a parking fee\n",
      "Enter the price of the expense:  5\n",
      "Expense 'paid a parking fee' does not match any category. Add as 'Random'? (y/n):  y\n"
     ]
    },
    {
     "name": "stdout",
     "output_type": "stream",
     "text": [
      "Receipt added successfully.\n"
     ]
    },
    {
     "name": "stdin",
     "output_type": "stream",
     "text": [
      "Enter the date of the expense (YYYY-MM-DD):  2024-30-09\n"
     ]
    },
    {
     "name": "stdout",
     "output_type": "stream",
     "text": [
      "Please make sure this is the right date in the right format (YYYY-MM-DD). Try again.\n"
     ]
    }
   ],
   "source": [
    "# Example Usage and Test Scenario\n",
    "receipts.add_receipt() # wrong format\n",
    "receipts.add_receipt() # Dollarama snacks\n",
    "receipts.add_receipt() # Soccer Match\n",
    "receipts.add_receipt() # Parking fee\n",
    "receipts.add_receipt() # wrong date\n",
    "# Simulate other receipts as needed"
   ]
  },
  {
   "cell_type": "code",
   "execution_count": 5,
   "id": "8205a10a-e1b4-4977-912d-951d2989105b",
   "metadata": {},
   "outputs": [
    {
     "name": "stdin",
     "output_type": "stream",
     "text": [
      "Enter the start date of the budget period (YYYY-MM-DD):  2024-02-31\n",
      "Enter the end date of the budget period (YYYY-MM-DD):  2024-03-19\n"
     ]
    },
    {
     "name": "stdout",
     "output_type": "stream",
     "text": [
      "Please make sure this is the right date in the right format (YYYY-MM-DD). Try again.\n"
     ]
    },
    {
     "name": "stdin",
     "output_type": "stream",
     "text": [
      "Enter the start date of the budget period (YYYY-MM-DD):  2024-02-20\n",
      "Enter the end date of the budget period (YYYY-MM-DD):  2024-03-19\n"
     ]
    },
    {
     "name": "stdout",
     "output_type": "stream",
     "text": [
      "Expenses from 2024-02-20 to 2024-03-19:\n",
      "Groceries: 10.0\n",
      "Hangouts: 20.0\n",
      "Random: 5.0\n"
     ]
    }
   ],
   "source": [
    "# Budget evaluation based on the start and end date\n",
    "receipts.budget_evaluation()"
   ]
  },
  {
   "cell_type": "code",
   "execution_count": null,
   "id": "4cb81248-4d74-42e6-b46d-fe0a1bb11af4",
   "metadata": {},
   "outputs": [],
   "source": []
  }
 ],
 "metadata": {
  "kernelspec": {
   "display_name": "Python 3 (ipykernel)",
   "language": "python",
   "name": "python3"
  },
  "language_info": {
   "codemirror_mode": {
    "name": "ipython",
    "version": 3
   },
   "file_extension": ".py",
   "mimetype": "text/x-python",
   "name": "python",
   "nbconvert_exporter": "python",
   "pygments_lexer": "ipython3",
   "version": "3.12.1"
  }
 },
 "nbformat": 4,
 "nbformat_minor": 5
}
